{
  "nbformat": 4,
  "nbformat_minor": 0,
  "metadata": {
    "colab": {
      "provenance": [],
      "toc_visible": true
    },
    "kernelspec": {
      "name": "python3",
      "display_name": "Python 3"
    },
    "language_info": {
      "name": "python"
    }
  },
  "cells": [
    {
      "cell_type": "code",
      "execution_count": null,
      "metadata": {
        "id": "kN-mvoObCxOz"
      },
      "outputs": [],
      "source": [
        "# Import Important Library\n",
        "import pandas as pd"
      ]
    },
    {
      "cell_type": "code",
      "source": [
        "# Define Dataframe\n",
        "df_environmental = pd.read_excel('Environmental_Dataset.xlsx')\n",
        "df_financial = pd.read_excel('Financial_Dataset.xlsx')\n",
        "df_social = pd.read_excel('Social_Dataset.xlsx')\n",
        "df_economic = pd.read_excel('Economic_Dataset.xlsx')\n",
        "df_geospatial = pd.read_excel('Geospatial_Dataset.xlsx')\n",
        "df_environmental_financial = pd.merge(df_environmental, df_financial, on='Project_ID', how='inner')\n",
        "df_economic_social = pd.merge(df_economic, df_social, on='Project_ID', how='inner')\n",
        "df_geospatial_financial = pd.merge(df_geospatial, df_financial, on='Project_ID', how='inner')"
      ],
      "metadata": {
        "id": "OgHaQa5xD7ee"
      },
      "execution_count": null,
      "outputs": []
    },
    {
      "cell_type": "markdown",
      "source": [
        "#### Question 1: Conditional Statements (If-Else) and Arithmetic Operations"
      ],
      "metadata": {
        "id": "sH3yWIKsk5lR"
      }
    },
    {
      "cell_type": "code",
      "source": [
        "for idx, row in df_environmental_financial.iterrows():\n",
        "  if str(row['Project_ID']).startswith('PLTS'):\n",
        "      ratio = row['CO2_Reduction']/(row['Investment_Cost'] * 1_000_000)\n",
        "      if ratio >= 0.5:\n",
        "        desc = 'High'\n",
        "      else:\n",
        "        desc = 'Low'\n",
        "      print(f'{row[\"Project_ID\"]}: {ratio} ({desc}) ')"
      ],
      "metadata": {
        "colab": {
          "base_uri": "https://localhost:8080/"
        },
        "id": "BBkB4y5aJ0tO",
        "outputId": "380f3d8f-d54b-4210-a8d1-ea3d29fa6311"
      },
      "execution_count": null,
      "outputs": [
        {
          "output_type": "stream",
          "name": "stdout",
          "text": [
            "PLTS-NTT-001: 0.0005 (Low) \n",
            "PLTS-JATIM-001: 0.0004494830944413924 (Low) \n",
            "PLTS-SULS-001: 0.00047808764940239046 (Low) \n",
            "PLTS-NTB-001: 0.00044444444444444447 (Low) \n",
            "PLTS-JABW-001: 0.0004318181818181818 (Low) \n"
          ]
        }
      ]
    },
    {
      "cell_type": "markdown",
      "source": [
        "#### Question 2: For Loop and Lists"
      ],
      "metadata": {
        "id": "PBW2KyNotHjF"
      }
    },
    {
      "cell_type": "code",
      "source": [
        "sum_co2_reduction = 0\n",
        "count = 0\n",
        "for idx, row in df_environmental.iterrows():\n",
        "  if str(row['Project_ID']).startswith('PLTM'):\n",
        "    sum_co2_reduction += row['CO2_Reduction']\n",
        "    count += 1\n",
        "avg_co2_reduction = sum_co2_reduction / count\n",
        "print(f'Average CO2 Reduction for PLTM projects: {avg_co2_reduction}')"
      ],
      "metadata": {
        "colab": {
          "base_uri": "https://localhost:8080/"
        },
        "id": "7YfxVIv9k71Z",
        "outputId": "19e6f0f2-a5b3-408c-a364-14a59ff36357"
      },
      "execution_count": null,
      "outputs": [
        {
          "output_type": "stream",
          "name": "stdout",
          "text": [
            "Average CO2 Reduction for PLTM projects: 34600.0\n"
          ]
        }
      ]
    },
    {
      "cell_type": "markdown",
      "source": [
        "#### Question 3: While Loop and User Input"
      ],
      "metadata": {
        "id": "jSLm8WhXuh_C"
      }
    },
    {
      "cell_type": "code",
      "source": [
        "while True:\n",
        "  project_id = input('Enter Project_ID (or `Done` to finish): ')\n",
        "  if project_id == 'Done':\n",
        "    break\n",
        "  if project_id in df_social['Project_ID'].values:\n",
        "    row = df_social[df_social['Project_ID'] == project_id]\n",
        "    print(f'Project Name: {row[\"Project_ID\"].values[0]} - Land Status: {row[\"Land_Status\"].values[0]}, Tingkat Konflik: {row[\"Tingkat_Konflik\"].values[0]}')\n",
        "  else:\n",
        "    print('Project Not Found')\n",
        "\n"
      ],
      "metadata": {
        "colab": {
          "base_uri": "https://localhost:8080/"
        },
        "id": "F423sTVtufES",
        "outputId": "ea1e80ba-f977-4648-bd69-56c7f34c5679"
      },
      "execution_count": null,
      "outputs": [
        {
          "name": "stdout",
          "output_type": "stream",
          "text": [
            "Enter Project_ID (or `Done` to finish): Done\n"
          ]
        }
      ]
    },
    {
      "cell_type": "markdown",
      "source": [
        "#### Question 4: Dictionary and Conditional Filtering"
      ],
      "metadata": {
        "id": "5OS11knXFwrF"
      }
    },
    {
      "cell_type": "code",
      "source": [
        "# Columns to clean\n",
        "columns_to_clean = ['Daya_Tarik_Investasi', 'Tingkat_Konflik']\n",
        "\n",
        "# Apply split and strip to each target column\n",
        "for col in columns_to_clean:\n",
        "    df_economic_social[col] = df_economic_social[col].apply(lambda x: x.split(':')[0].strip())"
      ],
      "metadata": {
        "id": "ddArJa78Fp-q"
      },
      "execution_count": null,
      "outputs": []
    },
    {
      "cell_type": "code",
      "source": [
        "project_dict = {}\n",
        "for _, row in df_economic_social.iterrows():\n",
        "  if row['Daya_Tarik_Investasi'] == \"High\" and row[\"Tingkat_Konflik\"] == \"Low\":\n",
        "    project_dict[row['Project_ID']] = (row['Daya_Tarik_Investasi'], row['Tingkat_Konflik'])\n",
        "\n",
        "print('Projects with High Investment Attractiveness and Low Conflict: ')\n",
        "for project_id in project_dict:\n",
        "  print(project_id)"
      ],
      "metadata": {
        "id": "L1_3YTdBJPJW",
        "colab": {
          "base_uri": "https://localhost:8080/"
        },
        "outputId": "2e2ab347-320a-465c-c8f4-53e43a470b4a"
      },
      "execution_count": null,
      "outputs": [
        {
          "output_type": "stream",
          "name": "stdout",
          "text": [
            "Projects with High Investment Attractiveness and Low Conflict: \n",
            "PLTM-SUMUT-001\n",
            "PLTS-JATIM-001\n",
            "PLTS-NTB-001\n",
            "PLTS-JABW-001\n"
          ]
        }
      ]
    },
    {
      "cell_type": "markdown",
      "source": [
        "#### Question 5: Functions and Arithmetic"
      ],
      "metadata": {
        "id": "RBDKucLIRA_H"
      }
    },
    {
      "cell_type": "code",
      "source": [
        "df_geospatial_financial['Efisiensi_Lokasi'] = df_geospatial_financial['Efisiensi_Lokasi'].apply(lambda x: x.split(':')[0].strip())"
      ],
      "metadata": {
        "id": "MPYSFmWRIFP8"
      },
      "execution_count": null,
      "outputs": []
    },
    {
      "cell_type": "code",
      "source": [
        "def calculate_total_investment(data):\n",
        "  total_investment = 0\n",
        "  for _, row in data.iterrows():\n",
        "    if row['Efisiensi_Lokasi'] == 'High':\n",
        "      total_investment += row['Investment_Cost']\n",
        "  return total_investment\n",
        "\n",
        "print(f'Total Investment for High Efficiency Locations: {calculate_total_investment(df_geospatial_financial)}')"
      ],
      "metadata": {
        "colab": {
          "base_uri": "https://localhost:8080/"
        },
        "id": "xSq9OO94SPPT",
        "outputId": "0fe3eb1f-ae5f-45d4-ed4d-df461878aa7f"
      },
      "execution_count": null,
      "outputs": [
        {
          "output_type": "stream",
          "name": "stdout",
          "text": [
            "Total Investment for High Efficiency Locations: 955.73\n"
          ]
        }
      ]
    },
    {
      "cell_type": "markdown",
      "source": [
        "#### Question 7: Error Handling in Loops"
      ],
      "metadata": {
        "id": "kC3ZYksbQQCu"
      }
    },
    {
      "cell_type": "code",
      "source": [
        "project_ids = ['PLTS-JATIM-001', 'PLTS-NTB-001', 'PLTS-SULSEL-003']\n",
        "\n",
        "\n",
        "total_energy_output = 0\n",
        "valid_projects = 0\n",
        "\n",
        "for project_id in project_ids:\n",
        "    try:\n",
        "\n",
        "        energy_output = df_environmental.loc[df_environmental['Project_ID'] == project_id, 'Energy_Output'].values[0]\n",
        "        total_energy_output += energy_output\n",
        "        valid_projects += 1\n",
        "    except IndexError:\n",
        "        print(f\"Project_ID '{project_id}' not found in the dataset.\")\n",
        "    except KeyError as e:\n",
        "        print(f\"Missing column in the dataset: {e}\")\n",
        "\n",
        "if valid_projects > 0:\n",
        "    average_output = total_energy_output / valid_projects\n",
        "    print(f\"\\nTotal Valid Projects: {valid_projects}\")\n",
        "    print(f\"Average Energy Output: {average_output}\")\n",
        "else:\n",
        "    print(\"No valid projects found.\")\n"
      ],
      "metadata": {
        "colab": {
          "base_uri": "https://localhost:8080/"
        },
        "id": "vBqLDUENQUaL",
        "outputId": "9de9917f-f81f-45d1-f97b-610223263ba9"
      },
      "execution_count": null,
      "outputs": [
        {
          "output_type": "stream",
          "name": "stdout",
          "text": [
            "Project_ID 'PLTS-SULSEL-003' not found in the dataset.\n",
            "\n",
            "Total Valid Projects: 2\n",
            "Average Energy Output: 29000.0\n"
          ]
        }
      ]
    },
    {
      "cell_type": "markdown",
      "source": [
        "#### Question Bonus"
      ],
      "metadata": {
        "id": "yWGWusnVRq58"
      }
    },
    {
      "cell_type": "code",
      "source": [
        "df_economic_environmental_financial = pd.merge(df_environmental_financial, df_economic, on='Project_ID', how='inner')"
      ],
      "metadata": {
        "id": "laXeVGBURqXP"
      },
      "execution_count": null,
      "outputs": []
    },
    {
      "cell_type": "code",
      "source": [
        "df_economic_environmental_financial.to_excel('question_bonus_dataset.xlsx', index=False)"
      ],
      "metadata": {
        "id": "W3AqLgy4Scln"
      },
      "execution_count": null,
      "outputs": []
    },
    {
      "cell_type": "code",
      "source": [
        "import pandas as pd\n",
        "import numpy as np\n",
        "from sklearn.model_selection import train_test_split, GridSearchCV\n",
        "from sklearn.tree import DecisionTreeClassifier\n",
        "from sklearn.preprocessing import LabelEncoder, StandardScaler\n",
        "from sklearn.metrics import accuracy_score, classification_report, confusion_matrix\n",
        "import warnings\n",
        "warnings.filterwarnings('ignore')\n",
        "\n",
        "# Loading dataset\n",
        "data = pd.read_csv('question_bonus_dataset.csv')\n",
        "\n",
        "# Checking for missing values and handling them\n",
        "print(\"Missing values:\\n\", data.isnull().sum())\n",
        "data = data.dropna()  # Drop rows with missing values if any\n",
        "\n",
        "# Encoding categorical columns\n",
        "categorical_cols = ['Konteks_Lingkungan', 'Peringkat_Dampak', 'Konteks_Proyek',\n",
        "                    'Status_Rank', 'Konteks_Ekonomi', 'Daya_Tarik_Investasi']\n",
        "label_encoders = {}\n",
        "for col in categorical_cols:\n",
        "    le = LabelEncoder()\n",
        "    data[col] = le.fit_transform(data[col])\n",
        "    label_encoders[col] = le\n",
        "\n",
        "# Separating features and target\n",
        "X = data.drop(['Project_ID', 'Daya_Tarik_Investasi'], axis=1)  # Drop ID and target\n",
        "y = data['Daya_Tarik_Investasi']\n",
        "\n",
        "# Scaling numerical features\n",
        "numerical_cols = ['CO2_Reduction', 'Energy_Output', 'Environmental_Risk_Index',\n",
        "                  'Investment_Cost', 'Revenue_Stream', 'Debt_Ratio',\n",
        "                  'Payment_Delay', 'GDP_Growth', 'Interest_Rate', 'Bond_Yield']\n",
        "scaler = StandardScaler()\n",
        "X[numerical_cols] = scaler.fit_transform(X[numerical_cols])\n",
        "\n",
        "# Splitting dataset into training and testing sets\n",
        "X_train, X_test, y_train, y_test = train_test_split(X, y, test_size=0.2, random_state=42)\n",
        "\n",
        "# Defining Decision Tree Classifier\n",
        "dt = DecisionTreeClassifier(random_state=42)\n",
        "\n",
        "# Defining hyperparameter grid for tuning\n",
        "param_grid = {\n",
        "    'criterion': ['gini', 'entropy'],\n",
        "    'max_depth': [5, 10, 15, 20, None],\n",
        "    'min_samples_split': [2, 5, 10],\n",
        "    'min_samples_leaf': [1, 2, 4]\n",
        "}\n",
        "\n",
        "# Performing GridSearchCV for hyperparameter tuning\n",
        "grid_search = GridSearchCV(estimator=dt, param_grid=param_grid,\n",
        "                           cv=5, n_jobs=-1, verbose=2, scoring='accuracy')\n",
        "grid_search.fit(X_train, y_train)\n",
        "\n",
        "# Getting the best model\n",
        "best_dt = grid_search.best_estimator_\n",
        "print(\"Best parameters:\", grid_search.best_params_)\n",
        "\n",
        "# Predicting on test set\n",
        "y_pred = best_dt.predict(X_test)\n",
        "\n",
        "# Evaluating the model\n",
        "accuracy = accuracy_score(y_test, y_pred)\n",
        "print(f\"Accuracy: {accuracy:.4f}\")\n",
        "print(\"\\nClassification Report:\\n\", classification_report(y_test, y_pred,\n",
        "      target_names=label_encoders['Daya_Tarik_Investasi'].classes_))\n",
        "print(\"\\nConfusion Matrix:\\n\", confusion_matrix(y_test, y_pred))\n",
        "\n",
        "# Feature importance\n",
        "feature_importance = pd.DataFrame({\n",
        "    'Feature': X.columns,\n",
        "    'Importance': best_dt.feature_importances_\n",
        "}).sort_values(by='Importance', ascending=False)\n",
        "print(\"\\nFeature Importance:\\n\", feature_importance)"
      ],
      "metadata": {
        "colab": {
          "base_uri": "https://localhost:8080/"
        },
        "id": "Jj4niab3WCDA",
        "outputId": "ff247c09-557c-49be-c860-e0c1b65905b8"
      },
      "execution_count": null,
      "outputs": [
        {
          "output_type": "stream",
          "name": "stdout",
          "text": [
            "Missing values:\n",
            " Project_ID                  0\n",
            "CO2_Reduction               0\n",
            "Energy_Output               0\n",
            "Environmental_Risk_Index    0\n",
            "Konteks_Lingkungan          0\n",
            "Peringkat_Dampak            0\n",
            "Investment_Cost             0\n",
            "Revenue_Stream              0\n",
            "Debt_Ratio                  0\n",
            "Payment_Delay               0\n",
            "Konteks_Proyek              0\n",
            "Status_Rank                 0\n",
            "GDP_Growth                  0\n",
            "Interest_Rate               0\n",
            "Bond_Yield                  0\n",
            "Konteks_Ekonomi             0\n",
            "Daya_Tarik_Investasi        0\n",
            "dtype: int64\n",
            "Fitting 5 folds for each of 90 candidates, totalling 450 fits\n",
            "Best parameters: {'criterion': 'entropy', 'max_depth': 5, 'min_samples_leaf': 1, 'min_samples_split': 10}\n",
            "Accuracy: 0.3650\n",
            "\n",
            "Classification Report:\n",
            "               precision    recall  f1-score   support\n",
            "\n",
            "  High: 💵💵💵💵       0.08      0.02      0.03        64\n",
            " High: 💵💵💵💵💵       0.00      0.00      0.00        35\n",
            "     Low: 💵💵       0.00      0.00      0.00        24\n",
            " Medium: 💵💵💵       0.39      0.94      0.55        77\n",
            "\n",
            "    accuracy                           0.36       200\n",
            "   macro avg       0.12      0.24      0.14       200\n",
            "weighted avg       0.17      0.36      0.22       200\n",
            "\n",
            "\n",
            "Confusion Matrix:\n",
            " [[ 1  0  0 63]\n",
            " [ 4  0  0 31]\n",
            " [ 2  1  0 21]\n",
            " [ 5  0  0 72]]\n",
            "\n",
            "Feature Importance:\n",
            "                      Feature  Importance\n",
            "14           Konteks_Ekonomi    0.332743\n",
            "6             Revenue_Stream    0.222629\n",
            "0              CO2_Reduction    0.109032\n",
            "5            Investment_Cost    0.101779\n",
            "7                 Debt_Ratio    0.098582\n",
            "1              Energy_Output    0.068217\n",
            "9             Konteks_Proyek    0.067019\n",
            "3         Konteks_Lingkungan    0.000000\n",
            "4           Peringkat_Dampak    0.000000\n",
            "2   Environmental_Risk_Index    0.000000\n",
            "8              Payment_Delay    0.000000\n",
            "10               Status_Rank    0.000000\n",
            "11                GDP_Growth    0.000000\n",
            "12             Interest_Rate    0.000000\n",
            "13                Bond_Yield    0.000000\n"
          ]
        }
      ]
    }
  ]
}