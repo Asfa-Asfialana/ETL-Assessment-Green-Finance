{
 "cells": [
  {
   "cell_type": "code",
   "execution_count": 11,
   "id": "a0c8f1ef",
   "metadata": {},
   "outputs": [
    {
     "data": {
      "text/html": [
       "<div>\n",
       "<style scoped>\n",
       "    .dataframe tbody tr th:only-of-type {\n",
       "        vertical-align: middle;\n",
       "    }\n",
       "\n",
       "    .dataframe tbody tr th {\n",
       "        vertical-align: top;\n",
       "    }\n",
       "\n",
       "    .dataframe thead th {\n",
       "        text-align: right;\n",
       "    }\n",
       "</style>\n",
       "<table border=\"1\" class=\"dataframe\">\n",
       "  <thead>\n",
       "    <tr style=\"text-align: right;\">\n",
       "      <th></th>\n",
       "      <th>Project_ID</th>\n",
       "      <th>CO2_Reduction</th>\n",
       "      <th>Energy_Output</th>\n",
       "      <th>Environmental_Risk_Index</th>\n",
       "      <th>Konteks_Lingkungan</th>\n",
       "      <th>Peringkat_Dampak</th>\n",
       "    </tr>\n",
       "  </thead>\n",
       "  <tbody>\n",
       "    <tr>\n",
       "      <th>0</th>\n",
       "      <td>PLTS-NTT-001</td>\n",
       "      <td>75000</td>\n",
       "      <td>25000</td>\n",
       "      <td>45</td>\n",
       "      <td>Sumba: radiasi matahari tinggi, rawan kekeringan</td>\n",
       "      <td>High: 🌿🌿🌿🌿</td>\n",
       "    </tr>\n",
       "    <tr>\n",
       "      <th>1</th>\n",
       "      <td>PLTM-SUMUT-001</td>\n",
       "      <td>30000</td>\n",
       "      <td>10000</td>\n",
       "      <td>60</td>\n",
       "      <td>Tapanuli: banjir musiman, debit air stabil</td>\n",
       "      <td>Medium: 🌿🌿🌿</td>\n",
       "    </tr>\n",
       "    <tr>\n",
       "      <th>2</th>\n",
       "      <td>PLTS-JATIM-001</td>\n",
       "      <td>90000</td>\n",
       "      <td>30000</td>\n",
       "      <td>30</td>\n",
       "      <td>Surabaya: risiko rendah, efisiensi tinggi</td>\n",
       "      <td>High: 🌿🌿🌿🌿🌿</td>\n",
       "    </tr>\n",
       "    <tr>\n",
       "      <th>3</th>\n",
       "      <td>PLTM-KALB-001</td>\n",
       "      <td>35000</td>\n",
       "      <td>12000</td>\n",
       "      <td>55</td>\n",
       "      <td>Kalbar: rawan banjir, hutan lindung dekat</td>\n",
       "      <td>Medium: 🌿🌿🌿</td>\n",
       "    </tr>\n",
       "    <tr>\n",
       "      <th>4</th>\n",
       "      <td>PLTS-SULS-001</td>\n",
       "      <td>60000</td>\n",
       "      <td>20000</td>\n",
       "      <td>40</td>\n",
       "      <td>Makassar: cuaca stabil, risiko sedang</td>\n",
       "      <td>High: 🌿🌿🌿🌿</td>\n",
       "    </tr>\n",
       "  </tbody>\n",
       "</table>\n",
       "</div>"
      ],
      "text/plain": [
       "       Project_ID  CO2_Reduction  Energy_Output  Environmental_Risk_Index  \\\n",
       "0    PLTS-NTT-001          75000          25000                        45   \n",
       "1  PLTM-SUMUT-001          30000          10000                        60   \n",
       "2  PLTS-JATIM-001          90000          30000                        30   \n",
       "3   PLTM-KALB-001          35000          12000                        55   \n",
       "4   PLTS-SULS-001          60000          20000                        40   \n",
       "\n",
       "                                 Konteks_Lingkungan Peringkat_Dampak  \n",
       "0  Sumba: radiasi matahari tinggi, rawan kekeringan       High: 🌿🌿🌿🌿  \n",
       "1        Tapanuli: banjir musiman, debit air stabil      Medium: 🌿🌿🌿  \n",
       "2         Surabaya: risiko rendah, efisiensi tinggi      High: 🌿🌿🌿🌿🌿  \n",
       "3         Kalbar: rawan banjir, hutan lindung dekat      Medium: 🌿🌿🌿  \n",
       "4             Makassar: cuaca stabil, risiko sedang       High: 🌿🌿🌿🌿  "
      ]
     },
     "execution_count": 11,
     "metadata": {},
     "output_type": "execute_result"
    }
   ],
   "source": [
    "import pandas as pd\n",
    "\n",
    "inv_df = pd.read_excel(\"C:/Users/LENOVO/GreenFinanceTA/Environmental_Dataset.xlsx\")\n",
    "fin_df = pd.read_excel(\"C:/Users/LENOVO/GreenFinanceTA/Financial_Dataset.xlsx\")\n",
    "fin_df.head()\n",
    "inv_df.head()"
   ]
  },
  {
   "cell_type": "code",
   "execution_count": 12,
   "id": "6ada1dfa",
   "metadata": {},
   "outputs": [],
   "source": [
    "# green_analysis.py\n",
    "\n",
    "def compute_co2_efficiency(co2_reduction, investment_cost):\n",
    "    try:\n",
    "        efficiency = co2_reduction / (investment_cost * 1_000)\n",
    "        return round(efficiency, 2)\n",
    "    except ZeroDivisionError:\n",
    "        return \"Cannot compute\""
   ]
  },
  {
   "cell_type": "code",
   "execution_count": 13,
   "id": "50dbc3cc",
   "metadata": {},
   "outputs": [
    {
     "name": "stdout",
     "output_type": "stream",
     "text": [
      "Merged Dataset:\n",
      "       Project_ID  CO2_Reduction  Energy_Output  Environmental_Risk_Index  \\\n",
      "0    PLTS-NTT-001          75000          25000                        45   \n",
      "1  PLTM-SUMUT-001          30000          10000                        60   \n",
      "2  PLTS-JATIM-001          90000          30000                        30   \n",
      "3   PLTM-KALB-001          35000          12000                        55   \n",
      "4   PLTS-SULS-001          60000          20000                        40   \n",
      "\n",
      "                                 Konteks_Lingkungan Peringkat_Dampak  \\\n",
      "0  Sumba: radiasi matahari tinggi, rawan kekeringan       High: 🌿🌿🌿🌿   \n",
      "1        Tapanuli: banjir musiman, debit air stabil      Medium: 🌿🌿🌿   \n",
      "2         Surabaya: risiko rendah, efisiensi tinggi      High: 🌿🌿🌿🌿🌿   \n",
      "3         Kalbar: rawan banjir, hutan lindung dekat      Medium: 🌿🌿🌿   \n",
      "4             Makassar: cuaca stabil, risiko sedang       High: 🌿🌿🌿🌿   \n",
      "\n",
      "   Investment_Cost  Revenue_Stream  Debt_Ratio  Payment_Delay  \\\n",
      "0           150.00            12.5        0.65             30   \n",
      "1            80.00             6.8        0.55             15   \n",
      "2           200.23            18.0        0.70             45   \n",
      "3            90.00             7.2        0.60             20   \n",
      "4           125.50            10.0        0.50             10   \n",
      "\n",
      "                                      Konteks_Proyek    Status_Rank  \n",
      "0  PLTS di Sumba, biaya logistik tinggi, pendanaa...  Medium: ★★★☆☆  \n",
      "1      PLTM di Tapanuli, akses mudah ke jaringan PLN     Low: ★★☆☆☆  \n",
      "2    PLTS besar di Surabaya, permintaan pasar tinggi    High: ★★★★☆  \n",
      "3     PLTM di Kalimantan Barat, tantangan lahan adat  Medium: ★★★☆☆  \n",
      "4      PLTS di Makassar, efisiensi tinggi distribusi     Low: ★☆☆☆☆  \n"
     ]
    }
   ],
   "source": [
    "merged_df = pd.merge(inv_df, fin_df, on='Project_ID')\n",
    "print(\"Merged Dataset:\")\n",
    "print(merged_df.head())\n"
   ]
  },
  {
   "cell_type": "code",
   "execution_count": 14,
   "id": "def8a194",
   "metadata": {},
   "outputs": [
    {
     "name": "stdout",
     "output_type": "stream",
     "text": [
      "PLTS-NTT-001: 0.5\n",
      "PLTS-SULS-001: 0.48\n"
     ]
    }
   ],
   "source": [
    "for pid in [\"PLTS-NTT-001\", \"PLTS-SULS-001\", \"PLTM-PAPUA-001\"]:\n",
    "    row = merged_df[merged_df[\"Project_ID\"] == pid]\n",
    "    if not row.empty:\n",
    "        co2 = row.iloc[0][\"CO2_Reduction\"]\n",
    "        inv = row.iloc[0][\"Investment_Cost\"]\n",
    "        result = compute_co2_efficiency(co2, inv)\n",
    "        print(f\"{pid}: {result}\")"
   ]
  }
 ],
 "metadata": {
  "kernelspec": {
   "display_name": "greenfinancetask",
   "language": "python",
   "name": "python3"
  },
  "language_info": {
   "codemirror_mode": {
    "name": "ipython",
    "version": 3
   },
   "file_extension": ".py",
   "mimetype": "text/x-python",
   "name": "python",
   "nbconvert_exporter": "python",
   "pygments_lexer": "ipython3",
   "version": "3.12.11"
  }
 },
 "nbformat": 4,
 "nbformat_minor": 5
}
