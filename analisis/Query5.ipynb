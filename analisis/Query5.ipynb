{
 "cells": [
  {
   "cell_type": "code",
   "execution_count": 3,
   "id": "fd7030d1",
   "metadata": {},
   "outputs": [
    {
     "name": "stdout",
     "output_type": "stream",
     "text": [
      "Geospatial Dataset:\n",
      "       Project_ID  Solar_Irradiance  Water_Flow  Distance_to_Grid  \\\n",
      "0    PLTS-NTT-001               5.8         0.0                 8   \n",
      "1  PLTM-SUMUT-001               0.0         1.5                 5   \n",
      "2  PLTS-JATIM-001               5.5         0.0                 3   \n",
      "3   PLTM-KALB-001               0.0         1.8                10   \n",
      "4   PLTS-SULS-001               5.7         0.0                 6   \n",
      "\n",
      "                       Konteks_Geospasial Efisiensi_Lokasi  \n",
      "0   Sumba: radiasi tinggi, dekat jaringan       High: 📍📍📍📍  \n",
      "1  Tapanuli: debit stabil, akses PLN baik       High: 📍📍📍📍  \n",
      "2  Surabaya: radiasi baik, jaringan dekat      High: 📍📍📍📍📍  \n",
      "3   Kalbar: debit tinggi, jaringan sedang      Medium: 📍📍📍  \n",
      "4    Makassar: radiasi tinggi, akses baik       High: 📍📍📍📍  \n",
      "Financial Dataset:\n",
      "       Project_ID  Investment_Cost  Revenue_Stream  Debt_Ratio  Payment_Delay  \\\n",
      "0    PLTS-NTT-001           150.00            12.5        0.65             30   \n",
      "1  PLTM-SUMUT-001            80.00             6.8        0.55             15   \n",
      "2  PLTS-JATIM-001           200.23            18.0        0.70             45   \n",
      "3   PLTM-KALB-001            90.00             7.2        0.60             20   \n",
      "4   PLTS-SULS-001           125.50            10.0        0.50             10   \n",
      "\n",
      "                                      Konteks_Proyek    Status_Rank  \n",
      "0  PLTS di Sumba, biaya logistik tinggi, pendanaa...  Medium: ★★★☆☆  \n",
      "1      PLTM di Tapanuli, akses mudah ke jaringan PLN     Low: ★★☆☆☆  \n",
      "2    PLTS besar di Surabaya, permintaan pasar tinggi    High: ★★★★☆  \n",
      "3     PLTM di Kalimantan Barat, tantangan lahan adat  Medium: ★★★☆☆  \n",
      "4      PLTS di Makassar, efisiensi tinggi distribusi     Low: ★☆☆☆☆  \n"
     ]
    }
   ],
   "source": [
    "import pandas as pd\n",
    "\n",
    "# Baca file Geospatial dan Financial\n",
    "geo_df = pd.read_excel(\"C:/Users/LENOVO/GreenFinanceTA/Geospatial_Dataset.xlsx\")\n",
    "fin_df = pd.read_excel(\"C:/Users/LENOVO/GreenFinanceTA/Financial_Dataset.xlsx\")\n",
    "\n",
    "# Tampilkan 5 baris pertama dari masing-masing dataset\n",
    "print(\"Geospatial Dataset:\")\n",
    "print(geo_df.head())\n",
    "\n",
    "print(\"Financial Dataset:\")\n",
    "print(fin_df.head())\n"
   ]
  },
  {
   "cell_type": "code",
   "execution_count": 7,
   "id": "d8d67e94",
   "metadata": {},
   "outputs": [
    {
     "name": "stdout",
     "output_type": "stream",
     "text": [
      "Merged Dataset (Geospatial + Financial):\n",
      "       Project_ID  Solar_Irradiance  Water_Flow  Distance_to_Grid  \\\n",
      "0    PLTS-NTT-001               5.8         0.0                 8   \n",
      "1  PLTM-SUMUT-001               0.0         1.5                 5   \n",
      "2  PLTS-JATIM-001               5.5         0.0                 3   \n",
      "3   PLTM-KALB-001               0.0         1.8                10   \n",
      "4   PLTS-SULS-001               5.7         0.0                 6   \n",
      "\n",
      "                       Konteks_Geospasial Efisiensi_Lokasi  Investment_Cost  \\\n",
      "0   Sumba: radiasi tinggi, dekat jaringan       High: 📍📍📍📍           150.00   \n",
      "1  Tapanuli: debit stabil, akses PLN baik       High: 📍📍📍📍            80.00   \n",
      "2  Surabaya: radiasi baik, jaringan dekat      High: 📍📍📍📍📍           200.23   \n",
      "3   Kalbar: debit tinggi, jaringan sedang      Medium: 📍📍📍            90.00   \n",
      "4    Makassar: radiasi tinggi, akses baik       High: 📍📍📍📍           125.50   \n",
      "\n",
      "   Revenue_Stream  Debt_Ratio  Payment_Delay  \\\n",
      "0            12.5        0.65             30   \n",
      "1             6.8        0.55             15   \n",
      "2            18.0        0.70             45   \n",
      "3             7.2        0.60             20   \n",
      "4            10.0        0.50             10   \n",
      "\n",
      "                                      Konteks_Proyek    Status_Rank  \n",
      "0  PLTS di Sumba, biaya logistik tinggi, pendanaa...  Medium: ★★★☆☆  \n",
      "1      PLTM di Tapanuli, akses mudah ke jaringan PLN     Low: ★★☆☆☆  \n",
      "2    PLTS besar di Surabaya, permintaan pasar tinggi    High: ★★★★☆  \n",
      "3     PLTM di Kalimantan Barat, tantangan lahan adat  Medium: ★★★☆☆  \n",
      "4      PLTS di Makassar, efisiensi tinggi distribusi     Low: ★☆☆☆☆  \n",
      "Nilai unik kolom Efisiensi_Lokasi:\n",
      "['High: 📍📍📍📍' 'High: 📍📍📍📍📍' 'Medium: 📍📍📍' 'Low: 📍📍']\n"
     ]
    }
   ],
   "source": [
    "# Gabungkan berdasarkan Project_ID\n",
    "merged_df = pd.merge(geo_df, fin_df, on=\"Project_ID\", how=\"inner\")\n",
    "\n",
    "# Tampilkan hasil gabungan\n",
    "print(\"Merged Dataset (Geospatial + Financial):\")\n",
    "print(merged_df.head())\n",
    "\n",
    "print(\"Nilai unik kolom Efisiensi_Lokasi:\")\n",
    "print(merged_df[\"Efisiensi_Lokasi\"].unique())"
   ]
  },
  {
   "cell_type": "code",
   "execution_count": 8,
   "id": "70cc4171",
   "metadata": {},
   "outputs": [],
   "source": [
    "def calculate_total_investment(project_ids, merged_data):\n",
    "    total = 0\n",
    "    for project_id in project_ids:\n",
    "        row = merged_data[merged_data[\"Project_ID\"] == project_id]\n",
    "        if not row.empty:\n",
    "            lokasi = str(row[\"Efisiensi_Lokasi\"].values[0]).strip().lower()\n",
    "            if lokasi.startswith(\"high\"):\n",
    "                try:\n",
    "                    investasi = float(row[\"Investment_Cost\"].values[0])\n",
    "                    total += investasi\n",
    "                except ValueError:\n",
    "                    print(f\"Nilai investasi tidak valid untuk proyek: {project_id}\")\n",
    "    return total\n"
   ]
  },
  {
   "cell_type": "code",
   "execution_count": 9,
   "id": "2e39e408",
   "metadata": {},
   "outputs": [
    {
     "name": "stdout",
     "output_type": "stream",
     "text": [
      "Total Investment for High-Efficiency Locations: 955.73 billion Rp\n"
     ]
    }
   ],
   "source": [
    "# Ambil semua Project_ID\n",
    "project_ids = merged_df[\"Project_ID\"].tolist()\n",
    "\n",
    "# Hitung total investasi proyek dengan Efisiensi_Lokasi tinggi\n",
    "total_investment = calculate_total_investment(project_ids, merged_df)\n",
    "\n",
    "# Tampilkan hasil akhir\n",
    "print(f\"Total Investment for High-Efficiency Locations: {total_investment:.2f} billion Rp\")\n"
   ]
  }
 ],
 "metadata": {
  "kernelspec": {
   "display_name": "greenfinancetask",
   "language": "python",
   "name": "python3"
  },
  "language_info": {
   "codemirror_mode": {
    "name": "ipython",
    "version": 3
   },
   "file_extension": ".py",
   "mimetype": "text/x-python",
   "name": "python",
   "nbconvert_exporter": "python",
   "pygments_lexer": "ipython3",
   "version": "3.12.11"
  }
 },
 "nbformat": 4,
 "nbformat_minor": 5
}
