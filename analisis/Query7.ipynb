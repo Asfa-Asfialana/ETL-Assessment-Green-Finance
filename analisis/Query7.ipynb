{
 "cells": [
  {
   "cell_type": "code",
   "execution_count": 5,
   "id": "5be15bf4",
   "metadata": {},
   "outputs": [
    {
     "name": "stdout",
     "output_type": "stream",
     "text": [
      "Environmental Dataset:\n",
      "                CO2_Reduction  Energy_Output  Environmental_Risk_Index  \\\n",
      "Project_ID                                                               \n",
      "PLTS-NTT-001            75000          25000                        45   \n",
      "PLTM-SUMUT-001          30000          10000                        60   \n",
      "PLTS-JATIM-001          90000          30000                        30   \n",
      "PLTM-KALB-001           35000          12000                        55   \n",
      "PLTS-SULS-001           60000          20000                        40   \n",
      "\n",
      "                                              Konteks_Lingkungan  \\\n",
      "Project_ID                                                         \n",
      "PLTS-NTT-001    Sumba: radiasi matahari tinggi, rawan kekeringan   \n",
      "PLTM-SUMUT-001        Tapanuli: banjir musiman, debit air stabil   \n",
      "PLTS-JATIM-001         Surabaya: risiko rendah, efisiensi tinggi   \n",
      "PLTM-KALB-001          Kalbar: rawan banjir, hutan lindung dekat   \n",
      "PLTS-SULS-001              Makassar: cuaca stabil, risiko sedang   \n",
      "\n",
      "               Peringkat_Dampak  \n",
      "Project_ID                       \n",
      "PLTS-NTT-001         High: 🌿🌿🌿🌿  \n",
      "PLTM-SUMUT-001      Medium: 🌿🌿🌿  \n",
      "PLTS-JATIM-001      High: 🌿🌿🌿🌿🌿  \n",
      "PLTM-KALB-001       Medium: 🌿🌿🌿  \n",
      "PLTS-SULS-001        High: 🌿🌿🌿🌿  \n",
      "Kolom yang terbaca dari Excel:\n",
      "['CO2_Reduction', 'Energy_Output', 'Environmental_Risk_Index', 'Konteks_Lingkungan', 'Peringkat_Dampak']\n"
     ]
    }
   ],
   "source": [
    "import pandas as pd\n",
    "\n",
    "# Baca file Environmental Dataset\n",
    "env_df = pd.read_excel(\"C:/Users/LENOVO/GreenFinanceTA/Environmental_Dataset.xlsx\")\n",
    "\n",
    "# Jadikan Project_ID sebagai index agar mudah dicari\n",
    "env_df.set_index(\"Project_ID\", inplace=True)\n",
    "\n",
    "# Tampilkan isi awal\n",
    "print(\"Environmental Dataset:\")\n",
    "print(env_df.head())\n",
    "\n",
    "print(\"Kolom yang terbaca dari Excel:\")\n",
    "print(env_df.columns.tolist())\n",
    "\n"
   ]
  },
  {
   "cell_type": "code",
   "execution_count": 7,
   "id": "e45d8b4c",
   "metadata": {},
   "outputs": [],
   "source": [
    "total_energy = 0\n",
    "valid_count = 0\n",
    "\n",
    "for pid, row in env_df.iterrows():\n",
    "    energy = row[\"Energy_Output\"]\n",
    "    if pd.notnull(energy):\n",
    "        total_energy += energy\n",
    "        valid_count += 1\n",
    "    else:\n",
    "        print(f\"{pid}: Energy_Output kosong.\")"
   ]
  },
  {
   "cell_type": "code",
   "execution_count": 8,
   "id": "e4b9efcb",
   "metadata": {},
   "outputs": [
    {
     "name": "stdout",
     "output_type": "stream",
     "text": [
      "Rata-rata Energy Output: 19600.00 kWh dari 10 proyek\n"
     ]
    }
   ],
   "source": [
    "if valid_count > 0:\n",
    "    avg_output = total_energy / valid_count\n",
    "    print(f\"Rata-rata Energy Output: {avg_output:.2f} kWh dari {valid_count} proyek\")\n",
    "else:\n",
    "    print(\"Tidak ada proyek valid yang bisa dihitung.\")"
   ]
  }
 ],
 "metadata": {
  "kernelspec": {
   "display_name": "greenfinancetask",
   "language": "python",
   "name": "python3"
  },
  "language_info": {
   "codemirror_mode": {
    "name": "ipython",
    "version": 3
   },
   "file_extension": ".py",
   "mimetype": "text/x-python",
   "name": "python",
   "nbconvert_exporter": "python",
   "pygments_lexer": "ipython3",
   "version": "3.12.11"
  }
 },
 "nbformat": 4,
 "nbformat_minor": 5
}
