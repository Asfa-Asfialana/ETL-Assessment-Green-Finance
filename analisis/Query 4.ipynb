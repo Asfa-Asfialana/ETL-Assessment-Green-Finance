{
 "cells": [
  {
   "cell_type": "code",
   "execution_count": 3,
   "id": "1d737cb8",
   "metadata": {},
   "outputs": [
    {
     "name": "stdout",
     "output_type": "stream",
     "text": [
      "Social Dataset Loaded\n",
      "       Project_ID Land_Status  Community_Support  Population_Density  \\\n",
      "0    PLTS-NTT-001        Adat                 70                  50   \n",
      "1  PLTM-SUMUT-001      Negara                 85                 200   \n",
      "2  PLTS-JATIM-001      Swasta                 90                 800   \n",
      "3   PLTM-KALB-001        Adat                 65                 100   \n",
      "4   PLTS-SULS-001      Negara                 80                 300   \n",
      "\n",
      "                               Konteks_Sosial Tingkat_Konflik  \n",
      "0      Sumba: lahan adat, konsultasi intensif    High: ⚠️⚠️⚠️  \n",
      "1  Tapanuli: izin BPN lancar, dukungan tinggi         Low: ⚠️  \n",
      "2    Surabaya: lahan swasta, masyarakat urban         Low: ⚠️  \n",
      "3   Kalbar: lahan adat, risiko konflik sedang    High: ⚠️⚠️⚠️  \n",
      "4         Makassar: izin mudah, dukungan baik    Medium: ⚠️⚠️  \n",
      "Economic Dataset Loaded\n",
      "       Project_ID  GDP_Growth  Interest_Rate  Bond_Yield  \\\n",
      "0    PLTS-NTT-001         4.5            4.2         5.1   \n",
      "1  PLTM-SUMUT-001         5.2            3.8         4.8   \n",
      "2  PLTS-JATIM-001         6.0            0.0         5.0   \n",
      "3   PLTM-KALB-001         4.8            4.1         5.2   \n",
      "4   PLTS-SULS-001         5.5            0.0         4.9   \n",
      "\n",
      "                               Konteks_Ekonomi Daya_Tarik_Investasi  \n",
      "0  Sumba: pertumbuhan rendah, pariwisata hijau          Medium: 💵💵💵  \n",
      "1               Tapanuli: ekonomi agro, stabil           High: 💵💵💵💵  \n",
      "2         Surabaya: pasar besar, industri kuat          High: 💵💵💵💵💵  \n",
      "3    Kalbar: ekonomi perkebunan, sedang tumbuh          Medium: 💵💵💵  \n",
      "4     Makassar: hub ekonomi, pendidikan tinggi           High: 💵💵💵💵  \n"
     ]
    }
   ],
   "source": [
    "# Baca dataset sosial\n",
    "soc_df = pd.read_excel('C:/Users/LENOVO/GreenFinanceTA/Social_Dataset.xlsx')\n",
    "print(\"Social Dataset Loaded\")\n",
    "print(soc_df.head())\n",
    "\n",
    "# Baca dataset ekonomi\n",
    "eco_df = pd.read_excel('C:/Users/LENOVO/GreenFinanceTA/Economic_Dataset.xlsx')\n",
    "print(\"Economic Dataset Loaded\")\n",
    "print(eco_df.head())\n"
   ]
  },
  {
   "cell_type": "code",
   "execution_count": 4,
   "id": "cc853433",
   "metadata": {},
   "outputs": [
    {
     "name": "stdout",
     "output_type": "stream",
     "text": [
      "Merged Dataset:\n",
      "       Project_ID  GDP_Growth  Interest_Rate  Bond_Yield  \\\n",
      "0    PLTS-NTT-001         4.5            4.2         5.1   \n",
      "1  PLTM-SUMUT-001         5.2            3.8         4.8   \n",
      "2  PLTS-JATIM-001         6.0            0.0         5.0   \n",
      "3   PLTM-KALB-001         4.8            4.1         5.2   \n",
      "4   PLTS-SULS-001         5.5            0.0         4.9   \n",
      "\n",
      "                               Konteks_Ekonomi Daya_Tarik_Investasi  \\\n",
      "0  Sumba: pertumbuhan rendah, pariwisata hijau          Medium: 💵💵💵   \n",
      "1               Tapanuli: ekonomi agro, stabil           High: 💵💵💵💵   \n",
      "2         Surabaya: pasar besar, industri kuat          High: 💵💵💵💵💵   \n",
      "3    Kalbar: ekonomi perkebunan, sedang tumbuh          Medium: 💵💵💵   \n",
      "4     Makassar: hub ekonomi, pendidikan tinggi           High: 💵💵💵💵   \n",
      "\n",
      "  Land_Status  Community_Support  Population_Density  \\\n",
      "0        Adat                 70                  50   \n",
      "1      Negara                 85                 200   \n",
      "2      Swasta                 90                 800   \n",
      "3        Adat                 65                 100   \n",
      "4      Negara                 80                 300   \n",
      "\n",
      "                               Konteks_Sosial Tingkat_Konflik  \n",
      "0      Sumba: lahan adat, konsultasi intensif    High: ⚠️⚠️⚠️  \n",
      "1  Tapanuli: izin BPN lancar, dukungan tinggi         Low: ⚠️  \n",
      "2    Surabaya: lahan swasta, masyarakat urban         Low: ⚠️  \n",
      "3   Kalbar: lahan adat, risiko konflik sedang    High: ⚠️⚠️⚠️  \n",
      "4         Makassar: izin mudah, dukungan baik    Medium: ⚠️⚠️  \n"
     ]
    }
   ],
   "source": [
    "# Gabungkan berdasarkan Project_ID\n",
    "merged_df = pd.merge(eco_df, soc_df, on='Project_ID', how='inner')\n",
    "print(\"Merged Dataset:\")\n",
    "print(merged_df.head())\n"
   ]
  },
  {
   "cell_type": "code",
   "execution_count": 5,
   "id": "1b7c39f5",
   "metadata": {},
   "outputs": [],
   "source": [
    "# Buat dictionary dari hasil gabungan\n",
    "project_dict = {\n",
    "    row['Project_ID']: (\n",
    "        str(row['Daya_Tarik_Investasi']).strip(), \n",
    "        str(row['Tingkat_Konflik']).strip()\n",
    "    )\n",
    "    for _, row in merged_df.iterrows()\n",
    "}\n"
   ]
  },
  {
   "cell_type": "code",
   "execution_count": 9,
   "id": "91344c75",
   "metadata": {},
   "outputs": [
    {
     "name": "stdout",
     "output_type": "stream",
     "text": [
      "Projects with High Investment Attractiveness and Low Conflict:\n",
      "PLTM-SUMUT-001\n",
      "PLTS-JATIM-001\n",
      "PLTS-NTB-001\n",
      "PLTS-JABW-001\n"
     ]
    }
   ],
   "source": [
    "# Filter proyek yang sesuai\n",
    "print(\"Projects with High Investment Attractiveness and Low Conflict:\")\n",
    "found = False\n",
    "for project_id, (invest, conflict) in project_dict.items():\n",
    "    if invest.lower().startswith(\"high\") and conflict.lower().startswith(\"low\"):\n",
    "        print(project_id)\n",
    "        found = True\n",
    "\n",
    "if not found:\n",
    "    print(\"Tidak ada proyek yang memenuhi kriteria.\")"
   ]
  }
 ],
 "metadata": {
  "kernelspec": {
   "display_name": "greenfinancetask",
   "language": "python",
   "name": "python3"
  },
  "language_info": {
   "codemirror_mode": {
    "name": "ipython",
    "version": 3
   },
   "file_extension": ".py",
   "mimetype": "text/x-python",
   "name": "python",
   "nbconvert_exporter": "python",
   "pygments_lexer": "ipython3",
   "version": "3.12.11"
  }
 },
 "nbformat": 4,
 "nbformat_minor": 5
}
